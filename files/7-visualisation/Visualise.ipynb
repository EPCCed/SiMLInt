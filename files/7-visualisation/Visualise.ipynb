{
 "cells": [
  {
   "cell_type": "code",
   "execution_count": null,
   "id": "5e17073f-cccd-4764-954e-5694434d3184",
   "metadata": {},
   "outputs": [],
   "source": [
    "import numpy as np \n",
    "from xbout import open_boutdataset"
   ]
  },
  {
   "cell_type": "code",
   "execution_count": null,
   "id": "bdecd926-7163-40c3-a1cd-4a19438a6358",
   "metadata": {},
   "outputs": [],
   "source": [
    "%matplotlib widget\n",
    "from matplotlib import pyplot as plt\n",
    "plt.rcParams[\"figure.figsize\"] = (10, 8)\n",
    "plt.rcParams.update({\"font.size\": 14})"
   ]
  },
  {
   "cell_type": "code",
   "execution_count": null,
   "id": "7443f4fb-1db9-4ac9-8336-1276d61cd18d",
   "metadata": {},
   "outputs": [],
   "source": [
    "import os"
   ]
  },
  {
   "cell_type": "code",
   "execution_count": null,
   "id": "60f5ba0f-3aac-4463-a340-34b15275abda",
   "metadata": {},
   "outputs": [],
   "source": [
    "data = '/path/to/simulation/data/BOUT.dmp.0.nc'"
   ]
  },
  {
   "cell_type": "code",
   "execution_count": null,
   "id": "ec856deb-5a28-4621-a76b-55bd873a6282",
   "metadata": {},
   "outputs": [],
   "source": [
    "import glob"
   ]
  },
  {
   "cell_type": "code",
   "execution_count": null,
   "id": "86c4268a-21eb-4009-ba7e-f4feec7fa791",
   "metadata": {},
   "outputs": [],
   "source": [
    "sim_list = glob.glob(data)\n",
    "sim_list"
   ]
  },
  {
   "cell_type": "code",
   "execution_count": null,
   "id": "4e01ee2b-7d65-4afb-909b-4b9916ca60fd",
   "metadata": {},
   "outputs": [],
   "source": [
    "ds_index = 0"
   ]
  },
  {
   "cell_type": "code",
   "execution_count": null,
   "id": "29ff216c-8760-42fa-aea6-1c5aa74a4ec8",
   "metadata": {},
   "outputs": [],
   "source": [
    "os.listdir(os.sep.join(sim_list[ds_index].split(os.sep)[:-1]))"
   ]
  },
  {
   "cell_type": "code",
   "execution_count": null,
   "id": "14e2fc99-92fe-4638-9808-5d4ad4375d6f",
   "metadata": {},
   "outputs": [],
   "source": [
    "ds = open_boutdataset(sim_list[ds_index])\n",
    "ds = ds.squeeze(drop=True)\n",
    "dx = ds[\"dx\"].isel(x=0).values\n",
    "ds = ds.drop(\"x\")\n",
    "ds = ds.assign_coords(x=np.arange(ds.sizes[\"x\"])*dx)\n",
    "ds_final = ds.isel(t=2)\n",
    "\n",
    "ax = plt.subplot(121)\n",
    "\n",
    "ax.set_aspect(\"equal\")\n",
    "ds_final[\"n\"].plot(x=\"x\", y=\"z\", cmap='RdBu')\n",
    "ax = plt.subplot(122)\n",
    "ax.set_aspect(\"equal\")\n",
    "ds_final[\"vort\"].plot(x=\"x\", y=\"z\", cmap='RdBu')\n",
    "plt.suptitle(sim_list[ds_index].split('/')[ds_index])\n",
    "plt.tight_layout()\n",
    "plt.show()\n",
    "# plt.savefig(f\"{os.environ['HOME']}/{sim_list[ds_index].split('/')[ds_index]}.png\")"
   ]
  },
  {
   "cell_type": "code",
   "execution_count": null,
   "id": "e9ac297e-0917-4d37-882a-ef678bd29584",
   "metadata": {},
   "outputs": [],
   "source": [
    "ds.bout.animate_list([\"n\", \"vort\"], aspect=\"equal\", cmap=\"RdBu\")#, vmin=-1e29, vmax=1e29)"
   ]
  }
 ],
 "metadata": {
  "kernelspec": {
   "display_name": "Python 3 (ipykernel)",
   "language": "python",
   "name": "python3"
  },
  "language_info": {
   "codemirror_mode": {
    "name": "ipython",
    "version": 3
   },
   "file_extension": ".py",
   "mimetype": "text/x-python",
   "name": "python",
   "nbconvert_exporter": "python",
   "pygments_lexer": "ipython3",
   "version": "3.11.8"
  }
 },
 "nbformat": 4,
 "nbformat_minor": 5
}
